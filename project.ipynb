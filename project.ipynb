{
 "cells": [
  {
   "cell_type": "code",
   "execution_count": null,
   "metadata": {},
   "outputs": [
    {
     "name": "stdout",
     "output_type": "stream",
     "text": [
      "Running json script...\n",
      "Running patch data script...\n",
      "Running data correlation script...\n",
      "Running SQLite insertion script...\n",
      "Running visualization script...\n",
      "All scripts executed successfully.\n",
      "Running json script...\n"
     ]
    }
   ],
   "source": [
    "import schedule\n",
    "import time\n",
    "import subprocess\n",
    "\n",
    "def run_scripts():\n",
    "    \"\"\"\n",
    "    Run all three scripts sequentially.\n",
    "    \"\"\"\n",
    "    try:\n",
    "        print(\"Running json script...\")\n",
    "        subprocess.run([\"python\", \"json_extractor.py\"])\n",
    "\n",
    "        print(\"Running patch data script...\")\n",
    "        subprocess.run([\"python\", \"patch_data.py\"])\n",
    "\n",
    "        print(\"Running data correlation script...\")\n",
    "        subprocess.run([\"python\", \"correlate_data.py\"])  # Run the correlation script\n",
    "        \n",
    "        print(\"Running SQLite insertion script...\")\n",
    "        subprocess.run([\"python\", \"insert_data_sqlite.py\"])  # Run the SQLite insertion script\n",
    "        \n",
    "        print(\"Running visualization script...\")\n",
    "        subprocess.run([\"python\", \"visualize_graph.py\"])  # Run the visualization script\n",
    "\n",
    "        print(\"All scripts executed successfully.\")\n",
    "    except Exception as e:\n",
    "        print(f\"Error executing scripts: {e}\")\n",
    "\n",
    "schedule.every(24).hours.do(run_scripts)\n",
    "\n",
    "# Keep the script running\n",
    "while True:\n",
    "    schedule.run_pending()\n",
    "    time.sleep(300)\n"
   ]
  }
 ],
 "metadata": {
  "kernelspec": {
   "display_name": "base",
   "language": "python",
   "name": "python3"
  },
  "language_info": {
   "codemirror_mode": {
    "name": "ipython",
    "version": 3
   },
   "file_extension": ".py",
   "mimetype": "text/x-python",
   "name": "python",
   "nbconvert_exporter": "python",
   "pygments_lexer": "ipython3",
   "version": "3.9.12"
  }
 },
 "nbformat": 4,
 "nbformat_minor": 2
}
